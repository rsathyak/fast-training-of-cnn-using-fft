{
  "nbformat": 4,
  "nbformat_minor": 0,
  "metadata": {
    "colab": {
      "name": "fft_conv_layer_analysis.ipynb",
      "provenance": [],
      "collapsed_sections": [],
      "toc_visible": true
    },
    "kernelspec": {
      "display_name": "Python 3",
      "name": "python3"
    },
    "language_info": {
      "codemirror_mode": {
        "name": "ipython",
        "version": 3
      },
      "file_extension": ".py",
      "mimetype": "text/x-python",
      "name": "python",
      "nbconvert_exporter": "python",
      "pygments_lexer": "ipython3",
      "version": "3.8.12"
    }
  },
  "cells": [
    {
      "cell_type": "markdown",
      "metadata": {
        "id": "aYHDPjH4ZXz2"
      },
      "source": [
        "## Analysis of Convolving tensors using fast fourier transform"
      ]
    },
    {
      "cell_type": "code",
      "metadata": {
        "colab": {
          "base_uri": "https://localhost:8080/"
        },
        "id": "Dh8qdTnqjP4Z",
        "outputId": "e80d2894-d85f-4553-b9a5-da43d5e99c2e"
      },
      "source": [
        "from functools import partial\n",
        "from typing import Iterable, Tuple, Union\n",
        "\n",
        "import torch\n",
        "from torch import nn\n",
        "import torch.nn.functional as f\n",
        "from torch import Tensor, nn\n",
        "from torch.fft import irfftn, rfftn\n",
        "\n",
        "from time import time\n",
        "import numpy as np\n",
        "import matplotlib.pyplot as plt\n",
        "from tqdm import tqdm\n",
        "\n",
        "torch.manual_seed(42)"
      ],
      "execution_count": 1,
      "outputs": [
        {
          "output_type": "execute_result",
          "data": {
            "text/plain": [
              "<torch._C.Generator at 0x7f11f4589ab0>"
            ]
          },
          "metadata": {},
          "execution_count": 1
        }
      ]
    },
    {
      "cell_type": "markdown",
      "metadata": {
        "id": "utLmh0t6gq9F"
      },
      "source": [
        "### Implementation of FFT Convolutional Layer"
      ]
    },
    {
      "cell_type": "code",
      "metadata": {
        "id": "Wraj9T4SNhdN"
      },
      "source": [
        "def complex_matmul(a: Tensor, b: Tensor, groups: int = 1) -> Tensor:\n",
        "    \"\"\"Multiplies two complex-valued tensors.\"\"\"\n",
        "    # Scalar matrix multiplication of two tensors, over only the first channel\n",
        "    # dimensions. Dimensions 3 and higher will have the same shape after multiplication.\n",
        "    # We also allow for \"grouped\" multiplications, where multiple sections of channels\n",
        "    # are multiplied independently of one another (required for group convolutions).\n",
        "    scalar_matmul = partial(torch.einsum, \"agc..., gbc... -> agb...\")\n",
        "    a = a.view(a.size(0), groups, -1, *a.shape[2:])\n",
        "    b = b.view(groups, -1, *b.shape[1:])\n",
        "\n",
        "    # Compute the real and imaginary parts independently, then manually insert them\n",
        "    # into the output Tensor.  This is fairly hacky but necessary for PyTorch 1.7.0,\n",
        "    # because Autograd is not enabled for complex matrix operations yet.  Not exactly\n",
        "    # idiomatic PyTorch code, but it should work for all future versions (>= 1.7.0).\n",
        "    real = scalar_matmul(a.real, b.real) - scalar_matmul(a.imag, b.imag)\n",
        "    imag = scalar_matmul(a.imag, b.real) + scalar_matmul(a.real, b.imag)\n",
        "    c = torch.zeros(real.shape, dtype=torch.complex64, device=a.device)\n",
        "    c.real, c.imag = real, imag\n",
        "\n",
        "    return c.view(c.size(0), -1, *c.shape[3:])\n",
        "\n",
        "\n",
        "def to_ntuple(val: Union[int, Iterable[int]], n: int) -> Tuple[int, ...]:\n",
        "    \"\"\"Casts to a tuple with length 'n'.  Useful for automatically computing the\n",
        "    padding and stride for convolutions, where users may only provide an integer.\n",
        "    Args:\n",
        "        val: (Union[int, Iterable[int]]) Value to cast into a tuple.\n",
        "        n: (int) Desired length of the tuple\n",
        "    Returns:\n",
        "        (Tuple[int, ...]) Tuple of length 'n'\n",
        "    \"\"\"\n",
        "    if isinstance(val, Iterable):\n",
        "        out = tuple(val)\n",
        "        if len(out) == n:\n",
        "            return out\n",
        "        else:\n",
        "            raise ValueError(f\"Cannot cast tuple of length {len(out)} to length {n}.\")\n",
        "    else:\n",
        "        return n * (val,)\n",
        "\n",
        "\n",
        "def fft_conv(\n",
        "    signal: Tensor,\n",
        "    kernel: Tensor,\n",
        "    bias: Tensor = None,\n",
        "    padding: Union[int, Iterable[int]] = 0,\n",
        "    stride: Union[int, Iterable[int]] = 1,\n",
        "    groups: int = 1,\n",
        ") -> Tensor:\n",
        "    \"\"\"Performs N-d convolution of Tensors using a fast fourier transform, which\n",
        "    is very fast for large kernel sizes. Also, optionally adds a bias Tensor after\n",
        "    the convolution (in order ot mimic the PyTorch direct convolution).\n",
        "    Args:\n",
        "        signal: (Tensor) Input tensor to be convolved with the kernel.\n",
        "        kernel: (Tensor) Convolution kernel.\n",
        "        bias: (Tensor) Bias tensor to add to the output.\n",
        "        padding: (Union[int, Iterable[int]) Number of zero samples to pad the\n",
        "            input on the last dimension.\n",
        "        stride: (Union[int, Iterable[int]) Stride size for computing output values.\n",
        "    Returns:\n",
        "        (Tensor) Convolved tensor\n",
        "    \"\"\"\n",
        "    # Cast padding & stride to tuples.\n",
        "    padding_ = to_ntuple(padding, n=signal.ndim - 2)\n",
        "    stride_ = to_ntuple(stride, n=signal.ndim - 2)\n",
        "\n",
        "    # Pad the input signal & kernel tensors\n",
        "    signal_padding = [p for p in padding_[::-1] for _ in range(2)]\n",
        "    signal = f.pad(signal, signal_padding)\n",
        "\n",
        "    # Because PyTorch computes a *one-sided* FFT, we need the final dimension to\n",
        "    # have *even* length.  Just pad with one more zero if the final dimension is odd.\n",
        "    if signal.size(-1) % 2 != 0:\n",
        "        signal_ = f.pad(signal, [0, 1])\n",
        "    else:\n",
        "        signal_ = signal\n",
        "\n",
        "    kernel_padding = [\n",
        "        pad\n",
        "        for i in reversed(range(2, signal_.ndim))\n",
        "        for pad in [0, signal_.size(i) - kernel.size(i)]\n",
        "    ]\n",
        "    padded_kernel = f.pad(kernel, kernel_padding)\n",
        "\n",
        "    # Perform fourier convolution -- FFT, matrix multiply, then IFFT\n",
        "    # signal_ = signal_.reshape(signal_.size(0), groups, -1, *signal_.shape[2:])\n",
        "    signal_fr = rfftn(signal_, dim=tuple(range(2, signal.ndim)))\n",
        "    kernel_fr = rfftn(padded_kernel, dim=tuple(range(2, signal.ndim)))\n",
        "\n",
        "    kernel_fr.imag *= -1\n",
        "    output_fr = complex_matmul(signal_fr, kernel_fr, groups=groups)\n",
        "    output = irfftn(output_fr, dim=tuple(range(2, signal.ndim)))\n",
        "\n",
        "    # Remove extra padded values\n",
        "    crop_slices = [slice(0, output.size(0)), slice(0, output.size(1))] + [\n",
        "        slice(0, (signal.size(i) - kernel.size(i) + 1), stride_[i - 2])\n",
        "        for i in range(2, signal.ndim)\n",
        "    ]\n",
        "    output = output[crop_slices].contiguous()\n",
        "\n",
        "    # Optionally, add a bias term before returning.\n",
        "    if bias is not None:\n",
        "        bias_shape = tuple([1, -1] + (signal.ndim - 2) * [1])\n",
        "        output += bias.view(bias_shape)\n",
        "\n",
        "    return output\n",
        "\n",
        "\n",
        "class _FFTConv(nn.Module):\n",
        "    \"\"\"Base class for PyTorch FFT convolution layers.\"\"\"\n",
        "\n",
        "    def __init__(\n",
        "        self,\n",
        "        in_channels: int,\n",
        "        out_channels: int,\n",
        "        kernel_size: Union[int, Iterable[int]],\n",
        "        padding: Union[int, Iterable[int]] = 0,\n",
        "        stride: Union[int, Iterable[int]] = 1,\n",
        "        groups: int = 1,\n",
        "        bias: bool = True,\n",
        "        ndim: int = 1,\n",
        "    ):\n",
        "        \"\"\"\n",
        "        Args:\n",
        "            in_channels: (int) Number of channels in input tensors\n",
        "            out_channels: (int) Number of channels in output tensors\n",
        "            kernel_size: (Union[int, Iterable[int]) Square radius of the kernel\n",
        "            padding: (Union[int, Iterable[int]) Number of zero samples to pad the\n",
        "                input on the last dimension.\n",
        "            stride: (Union[int, Iterable[int]) Stride size for computing output values.\n",
        "            bias: (bool) If True, includes bias, which is added after convolution\n",
        "        \"\"\"\n",
        "        super().__init__()\n",
        "        self.in_channels = in_channels\n",
        "        self.out_channels = out_channels\n",
        "        self.kernel_size = kernel_size\n",
        "        self.padding = padding\n",
        "        self.stride = stride\n",
        "        self.groups = groups\n",
        "        self.use_bias = bias\n",
        "\n",
        "        if in_channels % groups != 0:\n",
        "            raise ValueError(\n",
        "                \"'in_channels' must be divisible by 'groups'.\"\n",
        "                f\"Found: in_channels={in_channels}, groups={groups}.\"\n",
        "            )\n",
        "        if out_channels % groups != 0:\n",
        "            raise ValueError(\n",
        "                \"'out_channels' must be divisible by 'groups'.\"\n",
        "                f\"Found: out_channels={out_channels}, groups={groups}.\"\n",
        "            )\n",
        "\n",
        "        kernel_size = to_ntuple(kernel_size, ndim)\n",
        "        self.weight = nn.Parameter(\n",
        "            torch.randn(out_channels, in_channels // groups, *kernel_size)\n",
        "        )\n",
        "        self.bias = nn.Parameter(torch.randn(out_channels)) if bias else None\n",
        "\n",
        "    def forward(self, signal):\n",
        "        return fft_conv(\n",
        "            signal,\n",
        "            self.weight,\n",
        "            bias=self.bias,\n",
        "            padding=self.padding,\n",
        "            stride=self.stride,\n",
        "            groups=self.groups,\n",
        "        )\n",
        "\n",
        "\n",
        "FFTConv1d = partial(_FFTConv, ndim=1)\n",
        "FFTConv2d = partial(_FFTConv, ndim=2)\n",
        "FFTConv3d = partial(_FFTConv, ndim=3)"
      ],
      "execution_count": null,
      "outputs": []
    },
    {
      "cell_type": "markdown",
      "metadata": {
        "id": "YYOvFBhOUMxw"
      },
      "source": [
        "#### Implementation of Custom 1D, 2D, 3D Convolutional Layers"
      ]
    },
    {
      "cell_type": "code",
      "metadata": {
        "id": "R6pTfnZ1T90I"
      },
      "source": [
        "def conv_1d(kernel, bias, x):\n",
        "    kernel_shape = kernel.shape[0]\n",
        "    output_shape = x.shape[0] - kernel_shape + 1\n",
        "    result = np.zeros(output_shape)\n",
        "    for index in range(x.shape[0] - (kernel_shape - 1)):\n",
        "        window = x[index: index + kernel_shape]\n",
        "        result[index] = np.sum(np.multiply(kernel, window))\n",
        "    return result + bias\n",
        "\n",
        "def conv_2d(kernel, bias, x):\n",
        "    kernel_shape = kernel.shape[0]\n",
        "    output_shape = x.shape[0] - kernel_shape + 1\n",
        "    result = np.zeros((output_shape, output_shape))\n",
        "    for row in range(x.shape[0] - (kernel_shape - 1)):\n",
        "        for col in range(x.shape[1] - (kernel_shape - 1)):\n",
        "            window = x[row: row + kernel_shape, col: col + kernel_shape]\n",
        "            result[row, col] = np.sum(np.multiply(kernel, window))\n",
        "    return result + bias\n",
        "\n",
        "def conv_3d(kernel, bias, x):\n",
        "    kernel_shape = kernel.shape[0]\n",
        "    output_shape = x.shape[0] - kernel_shape + 1\n",
        "    result = np.zeros((output_shape, output_shape, output_shape))\n",
        "    for index1 in range(x.shape[0] - (kernel_shape - 1)):\n",
        "        for index2 in range(x.shape[1] - (kernel_shape - 1)):\n",
        "          for index3 in range(x.shape[2] - (kernel_shape - 1)):\n",
        "            window = x[index1: index1 + kernel_shape, index2: index2 + kernel_shape, index3: index3 + kernel_shape]\n",
        "            result[index1, index2, index3] = np.sum(np.multiply(kernel, window))\n",
        "    return result + bias"
      ],
      "execution_count": null,
      "outputs": []
    },
    {
      "cell_type": "markdown",
      "metadata": {
        "id": "Jf0phWPHY2u_"
      },
      "source": [
        "#### Input Size vs Execution Time\n",
        "\n",
        "- In this experiment, we run an analysis against input sizes and execution times of the custom convolution algorithm against the Fast fourier transform version of the convolution.\n",
        "\n",
        "Parameters:\n",
        "\n",
        "- Input size: 3-300 in steps of 5\n",
        "- Kernel Size: 2\n",
        "- Dimension: 2 (Conv2D)\n",
        "- Total Runs: 20"
      ]
    },
    {
      "cell_type": "code",
      "metadata": {
        "colab": {
          "base_uri": "https://localhost:8080/",
          "height": 296
        },
        "id": "4S7ZlYINP8cx",
        "outputId": "46ab9ccc-f67f-474a-e986-5da64a264839"
      },
      "source": [
        "naive_time_log = []\n",
        "fft_time_log = []\n",
        "\n",
        "MAX_INPUT_SIZE = 300\n",
        "NUM_RUNS = 20\n",
        "input_size_list = list(range(3, MAX_INPUT_SIZE, 5))\n",
        "\n",
        "for input_size in tqdm(input_size_list):\n",
        "    naive_time = np.zeros(NUM_RUNS)\n",
        "    fft_time = np.zeros(NUM_RUNS)\n",
        "    for run in range(NUM_RUNS):\n",
        "        conv = nn.Conv2d(1, 1, 2)\n",
        "        fft_conv_layer = FFTConv2d(1,1,2)\n",
        "\n",
        "        ip = torch.randint(low=0, high=10, size=(1, 1, input_size, input_size),  dtype=torch.float32)\n",
        "\n",
        "        conv.weight = nn.Parameter(torch.randint(low=0, high=10, size=(1, 1, 2, 2),  dtype=torch.float32))\n",
        "        fft_conv_layer.weight = conv.weight\n",
        "\n",
        "        ip_np = ip.numpy().reshape(-1, ip.shape[-1])\n",
        "        kernel_np = conv.weight.detach().squeeze().numpy()\n",
        "        bias_np = conv.bias.detach().squeeze().numpy()\n",
        "        start = time()\n",
        "        naive_conv = conv_2d(kernel_np, bias_np, ip_np)\n",
        "        naive_time[run] = time() - start\n",
        "\n",
        "        start = time()\n",
        "        fft_conv_out = fft_conv_layer(ip)\n",
        "        fft_time[run] = time() - start\n",
        "        \n",
        "    naive_time_log.append(naive_time.mean())\n",
        "    fft_time_log.append(fft_time.mean())\n",
        "\n",
        "plt.plot(input_size_list, naive_time_log,\n",
        "         label='Custom Conv 2D', color='red')\n",
        "plt.plot(input_size_list, fft_time_log,\n",
        "         label='FFT Conv 2D', color='blue')\n",
        "\n",
        "plt.xlabel('Size of Input (n x n)')\n",
        "plt.ylabel('Execution Time (secs) - Log Scale')\n",
        "plt.yscale(\"log\")\n",
        "plt.legend()\n",
        "plt.show()"
      ],
      "execution_count": null,
      "outputs": [
        {
          "name": "stderr",
          "output_type": "stream",
          "text": [
            "100%|██████████| 60/60 [04:05<00:00,  4.09s/it]\n"
          ]
        },
        {
          "data": {
            "image/png": "[encoded data removed]",
            "text/plain": [
              "<Figure size 432x288 with 1 Axes>"
            ]
          },
          "metadata": {
            "needs_background": "light"
          },
          "output_type": "display_data"
        }
      ]
    },
    {
      "cell_type": "markdown",
      "metadata": {
        "id": "1abN3Es7ahjb"
      },
      "source": [
        "#### Kernel Size vs Execution Time\n",
        "\n",
        "- In this experiment, we run an analysis against kernel size and execution times for the 2 algorithms\n",
        "\n",
        "Parameters:\n",
        "\n",
        "- Input size: 150\n",
        "- Kernel Size: 2-50 in steps of 2\n",
        "- Dimension: 2 (Conv2D)\n",
        "- Total Runs: 20"
      ]
    },
    {
      "cell_type": "code",
      "metadata": {
        "colab": {
          "base_uri": "https://localhost:8080/",
          "height": 296
        },
        "id": "c_3oqMSb6Ah_",
        "outputId": "ada3a6cc-0897-460e-c961-851eff73bcf3"
      },
      "source": [
        "naive_time_log = []\n",
        "fft_time_log = []\n",
        "\n",
        "MAX_KERNEL_SIZE = 50\n",
        "NUM_RUNS = 20\n",
        "kernel_sizes = list(range(2, MAX_KERNEL_SIZE, 2))\n",
        "\n",
        "for kernel_size in tqdm(kernel_sizes):\n",
        "    naive_time = np.zeros(NUM_RUNS)\n",
        "    fft_time = np.zeros(NUM_RUNS)\n",
        "    for run in range(NUM_RUNS):\n",
        "        conv = nn.Conv2d(1, 1, kernel_size)\n",
        "        fft_conv_layer = FFTConv2d(1,1,kernel_size)\n",
        "\n",
        "        ip = torch.randint(low=0, high=10, size=(1, 1, 150, 150),  dtype=torch.float32)\n",
        "\n",
        "        conv.weight = nn.Parameter(torch.randint(low=0, high=10, size=(1, 1, kernel_size, kernel_size),  dtype=torch.float32))\n",
        "        fft_conv_layer.weight = conv.weight\n",
        "\n",
        "        ip_np = ip.numpy().reshape(-1, ip.shape[-1])\n",
        "        kernel_np = conv.weight.detach().squeeze().numpy()\n",
        "        bias_np = conv.bias.detach().squeeze().numpy()\n",
        "        start = time()\n",
        "        naive_conv = conv_2d(kernel_np, bias_np, ip_np)\n",
        "        naive_time[run] = time() - start\n",
        "        start = time()\n",
        "        fft_conv_out = fft_conv_layer(ip)\n",
        "        fft_time[run] = time() - start\n",
        "        \n",
        "    naive_time_log.append(naive_time.mean())\n",
        "    fft_time_log.append(fft_time.mean())\n",
        "\n",
        "plt.plot(kernel_sizes, naive_time_log,\n",
        "         label='Custom Conv 2D', color='red')\n",
        "plt.plot(kernel_sizes, fft_time_log,\n",
        "         label='FFT Conv 2D', color='blue')\n",
        "\n",
        "plt.xlabel('Kernel Size')\n",
        "plt.ylabel('Execution Time (secs) - Log Scale')\n",
        "plt.yscale(\"log\")\n",
        "plt.legend()\n",
        "plt.show()"
      ],
      "execution_count": null,
      "outputs": [
        {
          "name": "stderr",
          "output_type": "stream",
          "text": [
            "100%|██████████| 24/24 [00:59<00:00,  2.46s/it]\n"
          ]
        },
        {
          "data": {
            "image/png": "[encoded data removed]",
            "text/plain": [
              "<Figure size 432x288 with 1 Axes>"
            ]
          },
          "metadata": {
            "needs_background": "light"
          },
          "output_type": "display_data"
        }
      ]
    },
    {
      "cell_type": "markdown",
      "metadata": {
        "id": "xCMN1grybGqU"
      },
      "source": [
        "#### Dimension Size vs Execution Time\n",
        "\n",
        "- In this experiment, we run an analysis against Dimension Size and execution times for the 2 algorithms\n",
        "\n",
        "Parameters:\n",
        "\n",
        "- Input size: 50\n",
        "- Kernel Size: 2\n",
        "- Dimension: 1 (Conv1D), 2 (Conv2D), 3 (Conv3D)\n",
        "- Total Runs: 20"
      ]
    },
    {
      "cell_type": "code",
      "metadata": {
        "colab": {
          "base_uri": "https://localhost:8080/",
          "height": 298
        },
        "id": "tUgDXTF45_-X",
        "outputId": "a35ca563-87ea-439b-b4bf-a92cab6ebeb5"
      },
      "source": [
        "naive_time_log = []\n",
        "fft_time_log = []\n",
        "\n",
        "NUM_RUNS = 20\n",
        "\n",
        "conv_arr = ['conv1d', 'conv2d', 'conv3d']\n",
        "fft_conv_fns = [FFTConv1d, FFTConv2d, FFTConv3d]\n",
        "torch_conv_fns = [nn.Conv1d, nn.Conv2d, nn.Conv3d]\n",
        "custom_conv_fns = [conv_1d, conv_2d, conv_3d]\n",
        "\n",
        "for conv_i in tqdm(range(len(fft_conv_fns))):\n",
        "    naive_time = np.zeros(NUM_RUNS)\n",
        "    fft_time = np.zeros(NUM_RUNS)\n",
        "    for run in range(NUM_RUNS):\n",
        "        conv = torch_conv_fns[conv_i](1, 1, 2)\n",
        "        fft_conv_layer = fft_conv_fns[conv_i](1,1,2)\n",
        "\n",
        "        ip_arr = [50] * (conv_i + 1)\n",
        "        ip = torch.randint(low=0, high=10, size=(1, 1, *ip_arr),  dtype=torch.float32)\n",
        "\n",
        "        weight_arr = [2] * (conv_i + 1)\n",
        "        conv.weight = nn.Parameter(torch.randint(low=0, high=10, size=(1, 1, *weight_arr),  dtype=torch.float32))\n",
        "        fft_conv_layer.weight = conv.weight\n",
        "\n",
        "        ip_np = ip.numpy().reshape(-1, *([50] * conv_i))\n",
        "        kernel_np = conv.weight.detach().squeeze().numpy()\n",
        "        bias_np = conv.bias.detach().squeeze().numpy()\n",
        "        start = time()\n",
        "        naive_conv = custom_conv_fns[conv_i](kernel_np, bias_np, ip_np)\n",
        "        naive_time[run] = time() - start\n",
        "        start = time()\n",
        "        fft_conv_out = fft_conv_layer(ip)\n",
        "        fft_time[run] = time() - start\n",
        "        \n",
        "    naive_time_log.append(naive_time.mean())\n",
        "    fft_time_log.append(fft_time.mean())\n",
        "\n",
        "plt.plot(conv_arr, naive_time_log,\n",
        "         label='Custom Conv ND', color='red')\n",
        "plt.plot(conv_arr, fft_time_log,\n",
        "         label='FFT Conv ND', color='blue')\n",
        "\n",
        "plt.xlabel('Dimensions of inputs and convolution')\n",
        "plt.ylabel('Execution Time (secs) - Log Scale')\n",
        "plt.yscale(\"log\")\n",
        "plt.legend()\n",
        "plt.show()"
      ],
      "execution_count": null,
      "outputs": [
        {
          "name": "stderr",
          "output_type": "stream",
          "text": [
            "100%|██████████| 3/3 [00:17<00:00,  5.70s/it]\n"
          ]
        },
        {
          "data": {
            "image/png": "[encoded data removed]",
            "text/plain": [
              "<Figure size 432x288 with 1 Axes>"
            ]
          },
          "metadata": {
            "needs_background": "light"
          },
          "output_type": "display_data"
        }
      ]
    },
    {
      "cell_type": "markdown",
      "metadata": {
        "id": "lc-fewLrg8ry"
      },
      "source": [
        "#### **References:**\n",
        "\n",
        "1. Fast Training of Convolutional Neural Networks through FFTs, https://arxiv.org/pdf/1312.5851.pdf\n",
        "\n",
        "2. How Are Convolutions Actually Performed Under the Hood? https://towardsdatascience.com/how-are-convolutions-actually-performed-under-the-hood-226523ce7fbf\n",
        "\n",
        "3. FFT - Convolution operations using pytorch, https://github.com/fkodom/fft-conv-pytorch\n"
      ]
    }
  ]
}