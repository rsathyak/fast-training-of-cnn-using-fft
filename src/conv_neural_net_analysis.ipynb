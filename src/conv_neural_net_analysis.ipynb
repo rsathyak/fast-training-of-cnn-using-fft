{
  "nbformat": 4,
  "nbformat_minor": 0,
  "metadata": {
    "colab": {
      "name": "conv_neural_net_analysis.ipynb",
      "provenance": [],
      "collapsed_sections": []
    },
    "kernelspec": {
      "name": "python3",
      "display_name": "Python 3"
    },
    "language_info": {
      "name": "python"
    },
    "accelerator": "GPU"
  },
  "cells": [
    {
      "cell_type": "code",
      "metadata": {
        "id": "AhfBiDNTs_QG"
      },
      "source": [
        "import math\n",
        "import torch\n",
        "import torchvision\n",
        "import torchvision.transforms as transforms\n",
        "from torchsummary import summary\n",
        "import matplotlib.pyplot as plt\n",
        "import numpy as np\n",
        "import torch.nn.functional as F\n",
        "import torch.optim as optim\n",
        "import pandas as pd\n",
        "\n",
        "\n",
        "import torch.nn.functional as f\n",
        "from torch import Tensor, nn\n",
        "from torch.fft import irfftn, rfftn"
      ],
      "execution_count": 18,
      "outputs": []
    },
    {
      "cell_type": "code",
      "metadata": {
        "id": "v-KGk-prVQLD"
      },
      "source": [
        "device = torch.device(\"cuda:0\" if torch.cuda.is_available() else \"cpu\")\n",
        "# device = 'cpu'"
      ],
      "execution_count": 3,
      "outputs": []
    },
    {
      "cell_type": "markdown",
      "metadata": {
        "id": "2asV5HeD9vAQ"
      },
      "source": [
        "### Implementation of Convolutional Layer using FFT"
      ]
    },
    {
      "cell_type": "code",
      "metadata": {
        "id": "lRek8ywfOWBf"
      },
      "source": [
        "def complex_matmul(a: Tensor, b: Tensor, groups: int = 1) -> Tensor:\n",
        "    \"\"\"Multiplies two complex-valued tensors.\"\"\"\n",
        "    # Scalar matrix multiplication of two tensors, over only the first channel\n",
        "    # dimensions. Dimensions 3 and higher will have the same shape after multiplication.\n",
        "    # We also allow for \"grouped\" multiplications, where multiple sections of channels\n",
        "    # are multiplied independently of one another (required for group convolutions).\n",
        "    scalar_matmul = partial(torch.einsum, \"agc..., gbc... -> agb...\")\n",
        "    a = a.view(a.size(0), groups, -1, *a.shape[2:])\n",
        "    b = b.view(groups, -1, *b.shape[1:])\n",
        "\n",
        "    # Compute the real and imaginary parts independently, then manually insert them\n",
        "    # into the output Tensor.  This is fairly hacky but necessary for PyTorch 1.7.0,\n",
        "    # because Autograd is not enabled for complex matrix operations yet.  Not exactly\n",
        "    # idiomatic PyTorch code, but it should work for all future versions (>= 1.7.0).\n",
        "    real = scalar_matmul(a.real, b.real) - scalar_matmul(a.imag, b.imag)\n",
        "    imag = scalar_matmul(a.imag, b.real) + scalar_matmul(a.real, b.imag)\n",
        "    c = torch.zeros(real.shape, dtype=torch.complex64, device=a.device)\n",
        "    c.real, c.imag = real, imag\n",
        "\n",
        "    return c.view(c.size(0), -1, *c.shape[3:])\n",
        "\n",
        "\n",
        "def to_ntuple(val: Union[int, Iterable[int]], n: int) -> Tuple[int, ...]:\n",
        "    \"\"\"Casts to a tuple with length 'n'.  Useful for automatically computing the\n",
        "    padding and stride for convolutions, where users may only provide an integer.\n",
        "    Args:\n",
        "        val: (Union[int, Iterable[int]]) Value to cast into a tuple.\n",
        "        n: (int) Desired length of the tuple\n",
        "    Returns:\n",
        "        (Tuple[int, ...]) Tuple of length 'n'\n",
        "    \"\"\"\n",
        "    if isinstance(val, Iterable):\n",
        "        out = tuple(val)\n",
        "        if len(out) == n:\n",
        "            return out\n",
        "        else:\n",
        "            raise ValueError(f\"Cannot cast tuple of length {len(out)} to length {n}.\")\n",
        "    else:\n",
        "        return n * (val,)\n",
        "\n",
        "\n",
        "def fft_conv(\n",
        "    signal: Tensor,\n",
        "    kernel: Tensor,\n",
        "    bias: Tensor = None,\n",
        "    padding: Union[int, Iterable[int]] = 0,\n",
        "    stride: Union[int, Iterable[int]] = 1,\n",
        "    groups: int = 1,\n",
        ") -> Tensor:\n",
        "    \"\"\"Performs N-d convolution of Tensors using a fast fourier transform, which\n",
        "    is very fast for large kernel sizes. Also, optionally adds a bias Tensor after\n",
        "    the convolution (in order ot mimic the PyTorch direct convolution).\n",
        "    Args:\n",
        "        signal: (Tensor) Input tensor to be convolved with the kernel.\n",
        "        kernel: (Tensor) Convolution kernel.\n",
        "        bias: (Tensor) Bias tensor to add to the output.\n",
        "        padding: (Union[int, Iterable[int]) Number of zero samples to pad the\n",
        "            input on the last dimension.\n",
        "        stride: (Union[int, Iterable[int]) Stride size for computing output values.\n",
        "    Returns:\n",
        "        (Tensor) Convolved tensor\n",
        "    \"\"\"\n",
        "    # Cast padding & stride to tuples.\n",
        "    padding_ = to_ntuple(padding, n=signal.ndim - 2)\n",
        "    stride_ = to_ntuple(stride, n=signal.ndim - 2)\n",
        "\n",
        "    # Pad the input signal & kernel tensors\n",
        "    signal_padding = [p for p in padding_[::-1] for _ in range(2)]\n",
        "    signal = f.pad(signal, signal_padding)\n",
        "\n",
        "    # Because PyTorch computes a *one-sided* FFT, we need the final dimension to\n",
        "    # have *even* length.  Just pad with one more zero if the final dimension is odd.\n",
        "    if signal.size(-1) % 2 != 0:\n",
        "        signal_ = f.pad(signal, [0, 1])\n",
        "    else:\n",
        "        signal_ = signal\n",
        "\n",
        "    kernel_padding = [\n",
        "        pad\n",
        "        for i in reversed(range(2, signal_.ndim))\n",
        "        for pad in [0, signal_.size(i) - kernel.size(i)]\n",
        "    ]\n",
        "    padded_kernel = f.pad(kernel, kernel_padding)\n",
        "\n",
        "    # Perform fourier convolution -- FFT, matrix multiply, then IFFT\n",
        "    # signal_ = signal_.reshape(signal_.size(0), groups, -1, *signal_.shape[2:])\n",
        "    signal_fr = rfftn(signal_, dim=tuple(range(2, signal.ndim)))\n",
        "    kernel_fr = rfftn(padded_kernel, dim=tuple(range(2, signal.ndim)))\n",
        "\n",
        "    kernel_fr.imag *= -1\n",
        "    output_fr = complex_matmul(signal_fr, kernel_fr, groups=groups)\n",
        "    output = irfftn(output_fr, dim=tuple(range(2, signal.ndim)))\n",
        "\n",
        "    # Remove extra padded values\n",
        "    crop_slices = [slice(0, output.size(0)), slice(0, output.size(1))] + [\n",
        "        slice(0, (signal.size(i) - kernel.size(i) + 1), stride_[i - 2])\n",
        "        for i in range(2, signal.ndim)\n",
        "    ]\n",
        "    output = output[crop_slices].contiguous()\n",
        "\n",
        "    # Optionally, add a bias term before returning.\n",
        "    if bias is not None:\n",
        "        bias_shape = tuple([1, -1] + (signal.ndim - 2) * [1])\n",
        "        output += bias.view(bias_shape)\n",
        "\n",
        "    return output\n",
        "\n",
        "\n",
        "class _FFTConv(nn.Module):\n",
        "    \"\"\"Base class for PyTorch FFT convolution layers.\"\"\"\n",
        "\n",
        "    def __init__(\n",
        "        self,\n",
        "        in_channels: int,\n",
        "        out_channels: int,\n",
        "        kernel_size: Union[int, Iterable[int]],\n",
        "        padding: Union[int, Iterable[int]] = 0,\n",
        "        stride: Union[int, Iterable[int]] = 1,\n",
        "        groups: int = 1,\n",
        "        bias: bool = True,\n",
        "        ndim: int = 1,\n",
        "    ):\n",
        "        \"\"\"\n",
        "        Args:\n",
        "            in_channels: (int) Number of channels in input tensors\n",
        "            out_channels: (int) Number of channels in output tensors\n",
        "            kernel_size: (Union[int, Iterable[int]) Square radius of the kernel\n",
        "            padding: (Union[int, Iterable[int]) Number of zero samples to pad the\n",
        "                input on the last dimension.\n",
        "            stride: (Union[int, Iterable[int]) Stride size for computing output values.\n",
        "            bias: (bool) If True, includes bias, which is added after convolution\n",
        "        \"\"\"\n",
        "        super().__init__()\n",
        "        self.in_channels = in_channels\n",
        "        self.out_channels = out_channels\n",
        "        self.kernel_size = kernel_size\n",
        "        self.padding = padding\n",
        "        self.stride = stride\n",
        "        self.groups = groups\n",
        "        self.use_bias = bias\n",
        "\n",
        "        if in_channels % groups != 0:\n",
        "            raise ValueError(\n",
        "                \"'in_channels' must be divisible by 'groups'.\"\n",
        "                f\"Found: in_channels={in_channels}, groups={groups}.\"\n",
        "            )\n",
        "        if out_channels % groups != 0:\n",
        "            raise ValueError(\n",
        "                \"'out_channels' must be divisible by 'groups'.\"\n",
        "                f\"Found: out_channels={out_channels}, groups={groups}.\"\n",
        "            )\n",
        "\n",
        "        kernel_size = to_ntuple(kernel_size, ndim)\n",
        "        self.weight = nn.Parameter(\n",
        "            torch.randn(out_channels, in_channels // groups, *kernel_size)\n",
        "        )\n",
        "        self.bias = nn.Parameter(torch.randn(out_channels)) if bias else None\n",
        "\n",
        "    def forward(self, signal):\n",
        "        return fft_conv(\n",
        "            signal,\n",
        "            self.weight,\n",
        "            bias=self.bias,\n",
        "            padding=self.padding,\n",
        "            stride=self.stride,\n",
        "            groups=self.groups,\n",
        "        )\n",
        "\n",
        "\n",
        "FFTConv1d = partial(_FFTConv, ndim=1)\n",
        "FFTConv2d = partial(_FFTConv, ndim=2)\n",
        "FFTConv3d = partial(_FFTConv, ndim=3)"
      ],
      "execution_count": null,
      "outputs": []
    },
    {
      "cell_type": "markdown",
      "metadata": {
        "id": "W8SwvIlsT7qg"
      },
      "source": [
        "### Custom Convolution 2D Implementation"
      ]
    },
    {
      "cell_type": "code",
      "metadata": {
        "id": "Lz3gPtCQ6RCc"
      },
      "source": [
        "class CustomConv2d(nn.Module):\n",
        "    def __init__(self, in_channels, out_channels, kernel_size, dilation=1, padding=0, stride=1):\n",
        "        super(CustomConv2d, self).__init__()\n",
        "        self.kernel_size = (kernel_size, kernel_size)\n",
        "        self.kernal_parameters = kernel_size * kernel_size\n",
        "        self.out_channels = out_channels\n",
        "        self.dilation = (dilation, dilation)\n",
        "        self.padding = (padding, padding)\n",
        "        self.stride = (stride, stride)\n",
        "        self.in_channels = in_channels\n",
        "        \n",
        "        self.weights = torch.nn.init.kaiming_normal_(torch.Tensor(self.out_channels, self.in_channels, self.kernal_parameters), a=0, mode='fan_in', nonlinearity='leaky_relu')\n",
        "        self.weights = nn.Parameter(self.weights, requires_grad = True)\n",
        "\n",
        "    def forward(self, X):\n",
        "        width = self.calculateNewWidth(X)\n",
        "        height = self.calculateNewHeight(X)\n",
        "      \n",
        "        weights_flat = self.weights.view(self.out_channels, -1)\n",
        "        unfold_fn = nn.Unfold(kernel_size=self.kernel_size, padding=self.padding)\n",
        "        windows = unfold_fn(X)\n",
        "        result = weights_flat @ windows\n",
        "        result = result.view(X.size()[0], self.out_channels, width, height)\n",
        "        return result\n",
        "\n",
        "    def calculateNewWidth(self, x):\n",
        "        return (\n",
        "            (x.shape[2] + 2 * self.padding[0] - self.dilation[0] * (self.kernel_size[0] - 1) - 1)\n",
        "            // self.stride[0]\n",
        "        ) + 1\n",
        "\n",
        "    def calculateNewHeight(self, x):\n",
        "        return (\n",
        "            (x.shape[3] + 2 * self.padding[1] - self.dilation[1] * (self.kernel_size[1] - 1) - 1)\n",
        "            // self.stride[1]\n",
        "        ) + 1"
      ],
      "execution_count": 4,
      "outputs": []
    },
    {
      "cell_type": "markdown",
      "metadata": {
        "id": "jYmFQf0NUDHR"
      },
      "source": [
        "### Convolution Network Using FFT"
      ]
    },
    {
      "cell_type": "code",
      "metadata": {
        "id": "K9SG6bCItH1i"
      },
      "source": [
        "class FFT_Net(nn.Module):\n",
        "    def __init__(self, input_size, kernel_size):\n",
        "        super().__init__()\n",
        "        fc1_size = (math.floor((input_size - kernel_size + 1 ) / 2) **2) * 16\n",
        "        self.conv1 = FFTConv2d(3,16,kernel_size)\n",
        "        self.pool = nn.MaxPool2d(2, 2)\n",
        "        self.fc1 = nn.Linear(fc1_size, 120)\n",
        "        self.fc2 = nn.Linear(120, 84)\n",
        "        self.fc3 = nn.Linear(84, 10)\n",
        "\n",
        "    def forward(self, x):\n",
        "        x = self.pool(F.relu(self.conv1(x)))\n",
        "        # flatten all dimensions except batch\n",
        "        x = torch.flatten(x, 1)\n",
        "        x = F.relu(self.fc1(x))\n",
        "        x = F.relu(self.fc2(x))\n",
        "        x = self.fc3(x)\n",
        "        return x"
      ],
      "execution_count": 5,
      "outputs": []
    },
    {
      "cell_type": "markdown",
      "metadata": {
        "id": "E1XP8YxZUGjA"
      },
      "source": [
        "### Convolution Network using PyTorch"
      ]
    },
    {
      "cell_type": "code",
      "metadata": {
        "id": "IPozbnc5PYXj"
      },
      "source": [
        "class TorchNet(nn.Module):\n",
        "    def __init__(self, input_size, kernel_size):\n",
        "        super().__init__()\n",
        "        fc1_size = (math.floor((input_size - kernel_size + 1 ) / 2) **2) * 16\n",
        "        self.conv1 = torch.nn.Conv2d(3,16,kernel_size)\n",
        "        self.pool = nn.MaxPool2d(2, 2)\n",
        "        self.fc1 = nn.Linear(fc1_size, 120)\n",
        "        self.fc2 = nn.Linear(120, 84)\n",
        "        self.fc3 = nn.Linear(84, 10)\n",
        "\n",
        "    def forward(self, x):\n",
        "        x = self.pool(F.relu(self.conv1(x)))\n",
        "        x = torch.flatten(x, 1) # flatten all dimensions except batch\n",
        "        x = F.relu(self.fc1(x))\n",
        "        x = F.relu(self.fc2(x))\n",
        "        x = self.fc3(x)\n",
        "        return x"
      ],
      "execution_count": 6,
      "outputs": []
    },
    {
      "cell_type": "markdown",
      "metadata": {
        "id": "1FVDLxEaUQsA"
      },
      "source": [
        "### Convolution Network using Custom Conv 2D"
      ]
    },
    {
      "cell_type": "code",
      "metadata": {
        "id": "gNG6056QeW4e"
      },
      "source": [
        "class CustomNet(nn.Module):\n",
        "    def __init__(self, input_size, kernel_size):\n",
        "        super().__init__()\n",
        "        fc1_size = (math.floor((input_size - kernel_size + 1 ) / 2) **2) * 16\n",
        "        self.conv1 = CustomConv2d(3, 16, kernel_size)\n",
        "        self.pool = nn.MaxPool2d(2, 2)\n",
        "        self.fc1 = nn.Linear(fc1_size, 120)\n",
        "        self.fc2 = nn.Linear(120, 84)\n",
        "        self.fc3 = nn.Linear(84, 10)\n",
        "\n",
        "    def forward(self, x):\n",
        "        x = self.pool(F.relu(self.conv1(x)))\n",
        "        # flatten all dimensions except batch\n",
        "        x = torch.flatten(x, 1)\n",
        "        x = F.relu(self.fc1(x))\n",
        "        x = F.relu(self.fc2(x))\n",
        "        x = self.fc3(x)\n",
        "        return x"
      ],
      "execution_count": 7,
      "outputs": []
    },
    {
      "cell_type": "markdown",
      "metadata": {
        "id": "uKgn1CtPUWih"
      },
      "source": [
        "## Training and Analysis"
      ]
    },
    {
      "cell_type": "code",
      "metadata": {
        "id": "jft3ioRN8A6B"
      },
      "source": [
        "transform = transforms.Compose(\n",
        "    [transforms.ToTensor(),\n",
        "     transforms.Normalize((0.5, 0.5, 0.5), (0.5, 0.5, 0.5))\n",
        "    ])"
      ],
      "execution_count": 8,
      "outputs": []
    },
    {
      "cell_type": "markdown",
      "metadata": {
        "id": "YHFNABhnUakc"
      },
      "source": [
        "### Input Sizes vs Running times for the convolution networks above"
      ]
    },
    {
      "cell_type": "code",
      "metadata": {
        "id": "4QHoRRB4LN7l"
      },
      "source": [
        "## Initialization\n",
        "\n",
        "batch_size = 10\n",
        "kernel_size = 64\n",
        "\n",
        "criterion = nn.CrossEntropyLoss()\n",
        "torch.cuda.synchronize()\n",
        "start = torch.cuda.Event(enable_timing=True)\n",
        "end = torch.cuda.Event(enable_timing=True)\n",
        "\n",
        "dataset_size = 100\n",
        "input_sizes = [70, 80, 90, 100, 110, 128]\n",
        "custom_net_running_times = []\n",
        "fft_net_running_times = []\n",
        "torch_net_running_times = []"
      ],
      "execution_count": 17,
      "outputs": []
    },
    {
      "cell_type": "code",
      "metadata": {
        "id": "PFAHkCU1tJ37"
      },
      "source": [
        "for input in input_sizes:\n",
        "    trainset = torchvision.datasets.FakeData(size=dataset_size, image_size=(3,\n",
        "            input, input), transform=transform)\n",
        "    testset = torchvision.datasets.FakeData(size=dataset_size, image_size=(3,\n",
        "            input, input), transform=transform)\n",
        "\n",
        "    trainloader = torch.utils.data.DataLoader(trainset,\n",
        "            batch_size=batch_size, shuffle=True, num_workers=2)\n",
        "\n",
        "    testloader = torch.utils.data.DataLoader(testset,\n",
        "            batch_size=batch_size, shuffle=False, num_workers=2)\n",
        "    \n",
        "    fft_net = FFT_Net(input, kernel_size)\n",
        "    fft_net.to(device)\n",
        "\n",
        "    fftn_times = []\n",
        "\n",
        "    # loop over the dataset multiple times\n",
        "\n",
        "    for epoch in range(2):\n",
        "\n",
        "        running_loss = 0.0\n",
        "        for (i, data) in enumerate(trainloader, 0):\n",
        "\n",
        "          # get the inputs; data is a list of [inputs, labels]\n",
        "          (inputs, labels) = (data[0].to(device), data[1].to(device))\n",
        "\n",
        "\n",
        "          #### training of CNN model using FFT 2D Conv Layer\n",
        "\n",
        "          # zero the parameter gradients\n",
        "          optimizer = optim.SGD(fft_net.parameters(), lr=0.001, momentum=0.9)\n",
        "          optimizer.zero_grad()\n",
        "\n",
        "          # forward + backward + optimize\n",
        "          start.record()\n",
        "\n",
        "          outputs = fft_net(inputs)\n",
        "          loss = criterion(outputs, labels)\n",
        "          loss.backward()\n",
        "          optimizer.step()\n",
        "\n",
        "          end.record()\n",
        "\n",
        "          # Waits for everything to finish running\n",
        "          torch.cuda.synchronize()\n",
        "\n",
        "          fftn_times.append(start.elapsed_time(end))\n",
        "\n",
        "          # print statistics\n",
        "          running_loss += loss.item()\n",
        "          del data\n",
        "\n",
        "    fft_net.to(\"cpu\")\n",
        "    del fft_net\n",
        "    fft_net_running_times.append(sum(fftn_times))"
      ],
      "execution_count": 18,
      "outputs": []
    },
    {
      "cell_type": "code",
      "metadata": {
        "id": "XULqs82wrAtN"
      },
      "source": [
        "for input in input_sizes:\n",
        "    trainset = torchvision.datasets.FakeData(size=dataset_size, image_size=(3,\n",
        "            input, input), transform=transform)\n",
        "    testset = torchvision.datasets.FakeData(size=dataset_size, image_size=(3,\n",
        "            input, input), transform=transform)\n",
        "\n",
        "    trainloader = torch.utils.data.DataLoader(trainset,\n",
        "            batch_size=batch_size, shuffle=True, num_workers=2)\n",
        "\n",
        "    testloader = torch.utils.data.DataLoader(testset,\n",
        "            batch_size=batch_size, shuffle=False, num_workers=2)\n",
        "    \n",
        "    custom_net = CustomNet(input, kernel_size)\n",
        "    custom_net.to(device)\n",
        "\n",
        "    cn_times = []\n",
        "\n",
        "    # loop over the dataset multiple times\n",
        "\n",
        "    for epoch in range(2):\n",
        "\n",
        "        running_loss = 0.0\n",
        "        for (i, data) in enumerate(trainloader, 0):\n",
        "\n",
        "          # get the inputs; data is a list of [inputs, labels]\n",
        "          (inputs, labels) = (data[0].to(device), data[1].to(device))\n",
        "\n",
        "          #### training of CNN model using custom 2d Conv Layer\n",
        "\n",
        "          # zero the parameter gradients\n",
        "          optimizer = optim.SGD(custom_net.parameters(), lr=0.001, momentum=0.9)\n",
        "          optimizer.zero_grad()\n",
        "\n",
        "          # forward + backward + optimize\n",
        "          start.record()\n",
        "\n",
        "          outputs = custom_net(inputs)\n",
        "          loss = criterion(outputs, labels)\n",
        "          loss.backward()\n",
        "          optimizer.step()\n",
        "\n",
        "          end.record()\n",
        "\n",
        "          # Waits for everything to finish running\n",
        "          torch.cuda.synchronize()\n",
        "\n",
        "          cn_times.append(start.elapsed_time(end))\n",
        "\n",
        "          # print statistics\n",
        "          running_loss += loss.item()\n",
        "          \n",
        "    del custom_net\n",
        "    custom_net_running_times.append(sum(cn_times))"
      ],
      "execution_count": 19,
      "outputs": []
    },
    {
      "cell_type": "code",
      "metadata": {
        "id": "9vKWVaX5rK_R"
      },
      "source": [
        "for input in input_sizes:\n",
        "    trainset = torchvision.datasets.FakeData(size=dataset_size, image_size=(3,\n",
        "            input, input), transform=transform)\n",
        "    testset = torchvision.datasets.FakeData(size=dataset_size, image_size=(3,\n",
        "            input, input), transform=transform)\n",
        "\n",
        "    trainloader = torch.utils.data.DataLoader(trainset,\n",
        "            batch_size=batch_size, shuffle=True, num_workers=2)\n",
        "\n",
        "    testloader = torch.utils.data.DataLoader(testset,\n",
        "            batch_size=batch_size, shuffle=False, num_workers=2)\n",
        "\n",
        "    torch_net = TorchNet(input, kernel_size)\n",
        "    torch_net.to(device)\n",
        "\n",
        "    torch_times = []\n",
        "\n",
        "    # loop over the dataset multiple times\n",
        "\n",
        "    for epoch in range(2):\n",
        "\n",
        "        running_loss = 0.0\n",
        "        for (i, data) in enumerate(trainloader, 0):\n",
        "\n",
        "          # get the inputs; data is a list of [inputs, labels]\n",
        "          (inputs, labels) = (data[0].to(device), data[1].to(device))\n",
        "\n",
        "          #### training of CNN model using Torch 2D Conv Layer\n",
        "\n",
        "          # zero the parameter gradients\n",
        "          optimizer = optim.SGD(torch_net.parameters(), lr=0.001, momentum=0.9)\n",
        "          optimizer.zero_grad()\n",
        "\n",
        "          # forward + backward + optimize\n",
        "          start.record()\n",
        "\n",
        "          outputs = torch_net(inputs)\n",
        "          loss = criterion(outputs, labels)\n",
        "          loss.backward()\n",
        "          optimizer.step()\n",
        "\n",
        "          end.record()\n",
        "\n",
        "          # Waits for everything to finish running\n",
        "          torch.cuda.synchronize()\n",
        "\n",
        "          torch_times.append(start.elapsed_time(end))\n",
        "\n",
        "          # print statistics\n",
        "          running_loss += loss.item()\n",
        "\n",
        "    torch_net.to(\"cpu\")\n",
        "    torch_net_running_times.append(sum(torch_times))"
      ],
      "execution_count": 20,
      "outputs": []
    },
    {
      "cell_type": "code",
      "metadata": {
        "colab": {
          "base_uri": "https://localhost:8080/",
          "height": 279
        },
        "id": "sk9_O8JbtL8s",
        "outputId": "2441557b-2929-40fa-ec32-92cb518a213d"
      },
      "source": [
        "## Plotting for input size vs running times\n",
        "\n",
        "plt.plot(input_sizes, custom_net_running_times, label='Custom Conv 2D', color='red')\n",
        "plt.plot(input_sizes, fft_net_running_times, label='FFT Conv 2D', color='blue')\n",
        "plt.plot(input_sizes, torch_net_running_times, label='Torch Conv 2D', color='green')\n",
        "plt.xlabel('Input Sizes')\n",
        "plt.ylabel('Execution Time (secs) - Log Scale')\n",
        "plt.yscale('log')\n",
        "plt.legend()\n",
        "plt.show()"
      ],
      "execution_count": 21,
      "outputs": [
        {
          "output_type": "display_data",
          "data": {
            "image/png": "[encoded data removed]",
            "text/plain": [
              "<Figure size 432x288 with 1 Axes>"
            ]
          },
          "metadata": {
            "needs_background": "light"
          }
        }
      ]
    },
    {
      "cell_type": "markdown",
      "metadata": {
        "id": "zDJqlVYJU0p2"
      },
      "source": [
        "### Kernel Size vs Running Times for various convolution networks above"
      ]
    },
    {
      "cell_type": "code",
      "metadata": {
        "id": "KI68enM3y1Cp"
      },
      "source": [
        "## Initialization\n",
        "\n",
        "batch_size = 4\n",
        "kernel_sizes = [8,16,24, 32, 40, 48, 56, 64]\n",
        "\n",
        "criterion = nn.CrossEntropyLoss()\n",
        "torch.cuda.synchronize()\n",
        "start = torch.cuda.Event(enable_timing=True)\n",
        "end = torch.cuda.Event(enable_timing=True)\n",
        "\n",
        "dataset_size = 128\n",
        "\n",
        "custom_net_running_times = []\n",
        "fft_net_running_times = []\n",
        "torch_net_running_times = []"
      ],
      "execution_count": 22,
      "outputs": []
    },
    {
      "cell_type": "code",
      "metadata": {
        "id": "WLVec-IWXYqr"
      },
      "source": [
        "for kernel in kernel_sizes:\n",
        "\n",
        "    fft_net = FFT_Net(input_size, kernel)\n",
        "    fft_net.to(device)\n",
        "\n",
        "    # print(input_size, kernel)\n",
        "    custom_net = CustomNet(input_size, kernel)\n",
        "    custom_net.to(device)\n",
        "\n",
        "    torch_net = TorchNet(input_size, kernel)\n",
        "    torch_net.to(device)\n",
        "\n",
        "    trainset = torchvision.datasets.FakeData(size=input_size, image_size=(3,\n",
        "            128, 128), transform=transform)\n",
        "    testset = torchvision.datasets.FakeData(size=input_size, image_size=(3,\n",
        "            128, 128), transform=transform)\n",
        "\n",
        "    trainloader = torch.utils.data.DataLoader(trainset,\n",
        "            batch_size=batch_size, shuffle=True, num_workers=2)\n",
        "\n",
        "    testloader = torch.utils.data.DataLoader(testset,\n",
        "            batch_size=batch_size, shuffle=False, num_workers=2)\n",
        "\n",
        "    cn_times = []\n",
        "    fftn_times = []\n",
        "    torch_times = []\n",
        "\n",
        "    # loop over the dataset multiple times\n",
        "\n",
        "    for epoch in range(2):\n",
        "\n",
        "        running_loss = 0.0\n",
        "        for (i, data) in enumerate(trainloader, 0):\n",
        "\n",
        "          # get the inputs; data is a list of [inputs, labels]\n",
        "          (inputs, labels) = (data[0].to(device), data[1].to(device))\n",
        "\n",
        "          #### training of CNN model using custom 2d Conv Layer\n",
        "\n",
        "          # zero the parameter gradients\n",
        "          optimizer = optim.SGD(custom_net.parameters(), lr=0.001, momentum=0.9)\n",
        "          optimizer.zero_grad()\n",
        "\n",
        "          # forward + backward + optimize\n",
        "          start.record()\n",
        "\n",
        "          outputs = custom_net(inputs)\n",
        "          loss = criterion(outputs, labels)\n",
        "          loss.backward()\n",
        "          optimizer.step()\n",
        "\n",
        "          end.record()\n",
        "\n",
        "          # Waits for everything to finish running\n",
        "          torch.cuda.synchronize()\n",
        "\n",
        "          cn_times.append(start.elapsed_time(end))\n",
        "\n",
        "          #### training of CNN model using FFT 2D Conv Layer\n",
        "\n",
        "          # zero the parameter gradients\n",
        "          optimizer = optim.SGD(fft_net.parameters(), lr=0.001, momentum=0.9)\n",
        "          optimizer.zero_grad()\n",
        "\n",
        "          # forward + backward + optimize\n",
        "          start.record()\n",
        "\n",
        "          outputs = fft_net(inputs)\n",
        "          loss = criterion(outputs, labels)\n",
        "          loss.backward()\n",
        "          optimizer.step()\n",
        "\n",
        "          end.record()\n",
        "\n",
        "          # Waits for everything to finish running\n",
        "          torch.cuda.synchronize()\n",
        "\n",
        "          fftn_times.append(start.elapsed_time(end))\n",
        "\n",
        "          #### training of CNN model using Torch 2D Conv Layer\n",
        "\n",
        "          # zero the parameter gradients\n",
        "          optimizer = optim.SGD(torch_net.parameters(), lr=0.001, momentum=0.9)\n",
        "          optimizer.zero_grad()\n",
        "\n",
        "          # forward + backward + optimize\n",
        "          start.record()\n",
        "\n",
        "          outputs = torch_net(inputs)\n",
        "          loss = criterion(outputs, labels)\n",
        "          loss.backward()\n",
        "          optimizer.step()\n",
        "\n",
        "          end.record()\n",
        "\n",
        "          # Waits for everything to finish running\n",
        "          torch.cuda.synchronize()\n",
        "\n",
        "          torch_times.append(start.elapsed_time(end))\n",
        "\n",
        "          # print statistics\n",
        "          running_loss += loss.item()\n",
        "\n",
        "    custom_net_running_times.append(sum(cn_times))\n",
        "    fft_net_running_times.append(sum(fftn_times))\n",
        "    torch_net_running_times.append(sum(torch_times))"
      ],
      "execution_count": 23,
      "outputs": []
    },
    {
      "cell_type": "code",
      "metadata": {
        "colab": {
          "base_uri": "https://localhost:8080/",
          "height": 279
        },
        "id": "MG-iOMTRXntG",
        "outputId": "7bded05a-b9fd-470e-fe99-aca2841cb263"
      },
      "source": [
        "## Plotting for input size vs running times\n",
        "\n",
        "plt.plot(kernel_sizes, custom_net_running_times, label='Custom Conv 2D', color='red')\n",
        "plt.plot(kernel_sizes, fft_net_running_times, label='FFT Conv 2D', color='blue')\n",
        "plt.plot(kernel_sizes, torch_net_running_times, label='Torch Conv 2D', color='green')\n",
        "plt.xlabel('Kernel Sizes')\n",
        "plt.ylabel('Execution Time (secs) - Log Scale')\n",
        "plt.yscale('log')\n",
        "plt.legend()\n",
        "plt.show()"
      ],
      "execution_count": 24,
      "outputs": [
        {
          "output_type": "display_data",
          "data": {
            "image/png": "[encoded data removed]",
            "text/plain": [
              "<Figure size 432x288 with 1 Axes>"
            ]
          },
          "metadata": {
            "needs_background": "light"
          }
        }
      ]
    },
    {
      "cell_type": "markdown",
      "metadata": {
        "id": "1aQg3DxCZDti"
      },
      "source": [
        "### Batch Size vs Running Times for convolutional networks above"
      ]
    },
    {
      "cell_type": "code",
      "metadata": {
        "colab": {
          "base_uri": "https://localhost:8080/"
        },
        "id": "SYw2I5MTZMUx",
        "outputId": "801af435-dd2e-46ac-89f4-49f2d5b2bdae"
      },
      "source": [
        "## Initialization\n",
        "\n",
        "batch_sizes = [16,32,64,128,150, 180, 200]\n",
        "kernel_size = 32\n",
        "\n",
        "criterion = nn.CrossEntropyLoss()\n",
        "torch.cuda.synchronize()\n",
        "start = torch.cuda.Event(enable_timing=True)\n",
        "end = torch.cuda.Event(enable_timing=True)\n",
        "dataset_size = 200\n",
        "\n",
        "custom_net_running_times = []\n",
        "fft_net_running_times = []\n",
        "torch_net_running_times = []\n",
        "\n",
        "input_size = 64\n",
        "fft_net = FFT_Net(input_size, kernel_size)\n",
        "fft_net.to(device)\n",
        "\n",
        "custom_net = CustomNet(input_size, kernel_size)\n",
        "custom_net.to(device)\n",
        "\n",
        "torch_net = TorchNet(input_size, kernel_size)\n",
        "torch_net.to(device)"
      ],
      "execution_count": 15,
      "outputs": [
        {
          "output_type": "execute_result",
          "data": {
            "text/plain": [
              "TorchNet(\n",
              "  (conv1): Conv2d(3, 16, kernel_size=(32, 32), stride=(1, 1))\n",
              "  (pool): MaxPool2d(kernel_size=2, stride=2, padding=0, dilation=1, ceil_mode=False)\n",
              "  (fc1): Linear(in_features=4096, out_features=120, bias=True)\n",
              "  (fc2): Linear(in_features=120, out_features=84, bias=True)\n",
              "  (fc3): Linear(in_features=84, out_features=10, bias=True)\n",
              ")"
            ]
          },
          "metadata": {},
          "execution_count": 15
        }
      ]
    },
    {
      "cell_type": "code",
      "metadata": {
        "id": "xlKBy8sLZeum"
      },
      "source": [
        "for batch in batch_sizes:\n",
        "\n",
        "    trainset = torchvision.datasets.FakeData(size=dataset_size, image_size=(3,\n",
        "            input_size, input_size), transform=transform)\n",
        "    testset = torchvision.datasets.FakeData(size=dataset_size, image_size=(3,\n",
        "            input_size, input_size), transform=transform)\n",
        "\n",
        "    trainloader = torch.utils.data.DataLoader(trainset,\n",
        "            batch_size=batch, shuffle=True, num_workers=2)\n",
        "\n",
        "    testloader = torch.utils.data.DataLoader(testset,\n",
        "            batch_size=batch, shuffle=False, num_workers=2)\n",
        "\n",
        "    cn_times = []\n",
        "    fftn_times = []\n",
        "    torch_times = []\n",
        "\n",
        "    # loop over the dataset multiple times\n",
        "\n",
        "    for epoch in range(2):\n",
        "\n",
        "        running_loss = 0.0\n",
        "        for (i, data) in enumerate(trainloader, 0):\n",
        "          torch.cuda.empty_cache()\n",
        "\n",
        "          # get the inputs; data is a list of [inputs, labels]\n",
        "          (inputs, labels) = (data[0].to(device), data[1].to(device))\n",
        "\n",
        "          #### training of CNN model using custom 2d Conv Layer\n",
        "\n",
        "          # zero the parameter gradients\n",
        "          optimizer = optim.SGD(custom_net.parameters(), lr=0.001, momentum=0.9)\n",
        "          optimizer.zero_grad()\n",
        "\n",
        "          # forward + backward + optimize\n",
        "          start.record()\n",
        "\n",
        "          outputs = custom_net(inputs)\n",
        "          loss = criterion(outputs, labels)\n",
        "          loss.backward()\n",
        "          optimizer.step()\n",
        "\n",
        "          end.record()\n",
        "\n",
        "          # Waits for everything to finish running\n",
        "          torch.cuda.synchronize()\n",
        "\n",
        "          cn_times.append(start.elapsed_time(end))\n",
        "\n",
        "          #### training of CNN model using FFT 2D Conv Layer\n",
        "\n",
        "          # zero the parameter gradients\n",
        "          optimizer = optim.SGD(fft_net.parameters(), lr=0.001, momentum=0.9)\n",
        "          optimizer.zero_grad()\n",
        "\n",
        "          # forward + backward + optimize\n",
        "          start.record()\n",
        "\n",
        "          outputs = fft_net(inputs)\n",
        "          loss = criterion(outputs, labels)\n",
        "          loss.backward()\n",
        "          optimizer.step()\n",
        "\n",
        "          end.record()\n",
        "\n",
        "          # Waits for everything to finish running\n",
        "          torch.cuda.synchronize()\n",
        "\n",
        "          fftn_times.append(start.elapsed_time(end))\n",
        "\n",
        "          #### training of CNN model using Torch 2D Conv Layer\n",
        "\n",
        "          # zero the parameter gradients\n",
        "          optimizer = optim.SGD(torch_net.parameters(), lr=0.001, momentum=0.9)\n",
        "          optimizer.zero_grad()\n",
        "\n",
        "          # forward + backward + optimize\n",
        "          start.record()\n",
        "\n",
        "          outputs = torch_net(inputs)\n",
        "          loss = criterion(outputs, labels)\n",
        "          loss.backward()\n",
        "          optimizer.step()\n",
        "\n",
        "          end.record()\n",
        "\n",
        "          # Waits for everything to finish running\n",
        "          torch.cuda.synchronize()\n",
        "\n",
        "          torch_times.append(start.elapsed_time(end))\n",
        "\n",
        "          # print statistics\n",
        "          running_loss += loss.item()\n",
        "\n",
        "    custom_net_running_times.append(sum(cn_times))\n",
        "    fft_net_running_times.append(sum(fftn_times))\n",
        "    torch_net_running_times.append(sum(torch_times))"
      ],
      "execution_count": 16,
      "outputs": []
    },
    {
      "cell_type": "code",
      "metadata": {
        "colab": {
          "base_uri": "https://localhost:8080/",
          "height": 279
        },
        "id": "i0jlGT-yZ3xx",
        "outputId": "3c0fe103-562e-474f-8b50-e3865419b6db"
      },
      "source": [
        "## Plotting for Batch sizes vs running times\n",
        "\n",
        "plt.plot(batch_sizes, custom_net_running_times, label='Custom Conv 2D', color='red')\n",
        "plt.plot(batch_sizes, fft_net_running_times, label='FFT Conv 2D', color='blue')\n",
        "plt.plot(batch_sizes, torch_net_running_times, label='Torch Conv 2D', color='green')\n",
        "plt.xlabel('Batch Sizes')\n",
        "plt.ylabel('Execution Time (secs) - Log Scale')\n",
        "plt.yscale('log')\n",
        "plt.legend()\n",
        "plt.show()"
      ],
      "execution_count": 17,
      "outputs": [
        {
          "output_type": "display_data",
          "data": {
            "image/png": "[encoded data removed]",
            "text/plain": [
              "<Figure size 432x288 with 1 Axes>"
            ]
          },
          "metadata": {
            "needs_background": "light"
          }
        }
      ]
    }
  ]
}